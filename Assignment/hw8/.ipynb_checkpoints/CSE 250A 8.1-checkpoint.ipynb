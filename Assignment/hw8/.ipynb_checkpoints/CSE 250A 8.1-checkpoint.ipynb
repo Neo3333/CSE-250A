{
 "cells": [
  {
   "cell_type": "code",
   "execution_count": 1,
   "metadata": {},
   "outputs": [],
   "source": [
    "import numpy as np\n",
    "import matplotlib.pyplot as plt\n",
    "%matplotlib inline"
   ]
  },
  {
   "cell_type": "code",
   "execution_count": 2,
   "metadata": {},
   "outputs": [],
   "source": [
    "# read data from txt files\n",
    "movies = open('hw8_movies.txt').read().splitlines()\n",
    "ids = open('hw8_ids.txt').read().splitlines()\n",
    "ratings_s = np.loadtxt('hw8_ratings.txt', dtype='str')"
   ]
  },
  {
   "cell_type": "code",
   "execution_count": 3,
   "metadata": {},
   "outputs": [],
   "source": [
    "ratings = np.zeros((258,76))\n",
    "for i in range(ratings_s.shape[0]):\n",
    "    for j in range(ratings_s.shape[1]):\n",
    "        if ratings_s[i][j] == '?': ratings[i][j] -= 1.0\n",
    "        else: ratings[i][j] += float(ratings_s[i][j])"
   ]
  },
  {
   "cell_type": "markdown",
   "metadata": {},
   "source": [
    "### a) Sanity check"
   ]
  },
  {
   "cell_type": "code",
   "execution_count": 4,
   "metadata": {},
   "outputs": [],
   "source": [
    "popularity = np.sum(ratings == 1,axis = 0) / np.sum(ratings >= 0, axis = 0)\n",
    "popularity_sorted = np.argsort(popularity)\n",
    "# for i in range(popularity_sorted.shape[0]):\n",
    "#     print(movies[popularity_sorted[i]],end='')"
   ]
  },
  {
   "cell_type": "markdown",
   "metadata": {},
   "source": [
    "### b) Likelihood"
   ]
  },
  {
   "cell_type": "markdown",
   "metadata": {},
   "source": [
    "$P(\\{R_j=r_j^{(t)}\\}_{j\\in\\Omega_t}) = \\sum_{i=1}^{k}P(\\{R_j=r_j^{(t)}\\}_{j\\in\\Omega_t},Z=i)$(marginalization);\n",
    "<br/>\n",
    "<br/>$=\\sum_{i=1}^{k}P(Z=i)P(\\{R_j=r_j^{(t)}\\}_{j\\in\\Omega_t}|Z=i)$(product rule);\n",
    "<br/>\n",
    "<br/>$=\\sum_{i=1}^{k}P(Z=i)\\prod_{j\\in\\Omega_t}P(R_j=r_j^{(t)}|Z=i)$(conditional independence:d-seperation(2))."
   ]
  },
  {
   "cell_type": "markdown",
   "metadata": {},
   "source": [
    "### c) E-step"
   ]
  },
  {
   "cell_type": "markdown",
   "metadata": {},
   "source": [
    "$P(Z=i|\\{R_j=r_j^{(t)}\\}_{j\\in\\Omega_t}) =$ <font color = black size = 4 face=雅黑>$\\frac{P(Z=i,\\{R_j=r_j^{(t)}\\}_{j\\in\\Omega_t})}{P(\\{R_j=r_j^{(t)}\\}_{j\\in\\Omega_t})}$\n",
    "</font>(product rule);\n",
    "<br/>\n",
    "<br/>Numerator $=P(Z=i)P(\\{R_j=r_j^{(t)}\\}_{j\\in\\Omega_t}|Z=i)=P(Z=i)\\prod_{j\\in\\Omega_t}P(R_j=r_j^{(t)}|Z=i)$（product rule & conditional independence:d-seperation(2));\n",
    "<br/>\n",
    "<br/>$P(Z=i|\\{R_j=r_j^{(t)}\\}_{j\\in\\Omega_t})=$ <font color = black size = 4 face=雅黑> $\\frac{P(Z=i)\\prod_{j\\in\\Omega_t}P(R_j=r_j^{(t)}|Z=i)}{\\sum_{i^{'}=1}^{k}P(Z=i^{'})\\prod_{j\\in\\Omega_t}P(R_j=r_j^{(t)}|Z=i^{'})}$\n",
    "</font>(using the result of the previous question)."
   ]
  },
  {
   "cell_type": "markdown",
   "metadata": {},
   "source": [
    "### d) M-step"
   ]
  },
  {
   "cell_type": "markdown",
   "metadata": {},
   "source": [
    "Assume that $\\rho_{it}=P(Z=i|\\{R_j=r_j^{(t)}\\}_{j\\in\\Omega_t})$;\n",
    "<br/>\n",
    "<br/>$P(Z=i)\\gets\\frac{1}{T}P(Z=i|\\{R_j=r_j^{(t)}\\}_{j\\in\\Omega_t})=\\frac{1}{T}\\sum_{t=1}^{T}\\rho_{it}$;\n",
    "<br/>\n",
    "<br/>$P(R_j=1|Z=i)\\gets$<font color = black size = 4 face=雅黑>$\\frac{\\sum_tP(R_j=1,Z=i|\\{R_k=r_k^{(t)}\\}_{k\\in\\Omega_t})}{\\sum_tP(Z=i|\\{R_j=r_k^{(t)}\\}_{k\\in\\Omega_t})}$\n",
    "</font>;\n",
    "<br/>\n",
    "<br/>Numerator $=\\sum_{\\{t|j\\in\\Omega_t\\}}I(r_j^{(t)},1)P(Z=i|\\{R_k=r_k^{(t)}\\}_{k\\in\\Omega_t})+\\sum_{\\{t|j\\notin\\Omega_t\\}}P(Z=i|\\{R_k=r_k^{(t)}\\}_{k\\in\\Omega_t})P(R_j=1|Z=i,\\{R_k=r_k^{(t)}\\}_{k\\in\\Omega_t})$\n",
    "<br/>\n",
    "<br/>$=\\sum_{\\{t|j\\in\\Omega_t\\}}I(r_j^{(t)},1)P(Z=i|\\{R_k=r_k^{(t)}\\}_{k\\in\\Omega_t})+\\sum_{\\{t|j\\notin\\Omega_t\\}}P(Z=i|\\{R_k=r_k^{(t)}\\}_{k\\in\\Omega_t})P(R_j=1|Z=i)(conditional independence);$\n",
    "<br/>\n",
    "<br/>$P(R_j=1|Z=i)\\gets$<font color = black size = 4 face=雅黑>$\\frac{\\sum_{\\{t|j\\in\\Omega_t\\}}I(r_j^{(t)},1)\\rho_{it}+\\sum_{\\{t|j\\notin\\Omega_t\\}}\\rho_{it}P(R_j=1|Z=i)}{\\sum_{t=1}^{T}\\rho_{it}}$. </font>"
   ]
  },
  {
   "cell_type": "markdown",
   "metadata": {},
   "source": [
    "### e) Implementation"
   ]
  },
  {
   "cell_type": "code",
   "execution_count": 25,
   "metadata": {},
   "outputs": [],
   "source": [
    "probR = np.loadtxt('hw8_probR_init.txt')\n",
    "probZ = np.loadtxt('hw8_probZ_init.txt')\n",
    "mask1 = (ratings == 1) + 0\n",
    "mask0 = (ratings == 0) + 0\n",
    "mask_1 = (ratings == -1) + 0"
   ]
  },
  {
   "cell_type": "code",
   "execution_count": 26,
   "metadata": {},
   "outputs": [],
   "source": [
    "def C_product(pr,pz):\n",
    "    result = []\n",
    "    for i in range(ratings.shape[0]):\n",
    "        temp1 = mask1[i][:,np.newaxis]\n",
    "        temp0 = mask0[i][:,np.newaxis]\n",
    "        temp = pr * temp1 + (1-pr) * temp0\n",
    "        product = np.prod(temp,axis=0,where=(temp > 0))\n",
    "        result.append(product)\n",
    "    result = np.array(result)\n",
    "    return result"
   ]
  },
  {
   "cell_type": "code",
   "execution_count": 27,
   "metadata": {},
   "outputs": [],
   "source": [
    "def C_product_log(pr,pz):\n",
    "    return np.exp(mask1.dot(np.log(pr)) + mask0.dot(np.log(1-pr)))"
   ]
  },
  {
   "cell_type": "code",
   "execution_count": 28,
   "metadata": {},
   "outputs": [],
   "source": [
    "def C_loss(pr,pz):\n",
    "    product = C_product(pr,pz)\n",
    "    return 1/ratings.shape[0] * np.sum(np.log(product.dot(pz)))"
   ]
  },
  {
   "cell_type": "code",
   "execution_count": 29,
   "metadata": {},
   "outputs": [],
   "source": [
    "def E_posterior(pr,pz):\n",
    "    product = C_product(pr,pz)\n",
    "    denominator = (product.dot(pz))[:,np.newaxis]\n",
    "    numerator = product * pz\n",
    "    return numerator / denominator"
   ]
  },
  {
   "cell_type": "code",
   "execution_count": 30,
   "metadata": {},
   "outputs": [],
   "source": [
    "def M_update(pr,pz):\n",
    "    posterior = E_posterior(pr,pz)\n",
    "    pz_update = 1/ratings.shape[0] * np.sum(posterior,axis = 0)\n",
    "    denominator = pz_update * ratings.shape[0]\n",
    "    numerator = mask1.T.dot(posterior) + mask_1.T.dot(posterior) * pr\n",
    "    pr_update = numerator / denominator\n",
    "    return pr_update,pz_update"
   ]
  },
  {
   "cell_type": "code",
   "execution_count": 31,
   "metadata": {},
   "outputs": [
    {
     "name": "stdout",
     "output_type": "stream",
     "text": [
      "iteration 0\tlog-likelihood  -29.3276\n",
      "iteration 1\tlog-likelihood  -18.1393\n",
      "iteration 2\tlog-likelihood  -16.1713\n",
      "iteration 4\tlog-likelihood  -14.9416\n",
      "iteration 8\tlog-likelihood  -14.2107\n",
      "iteration 16\tlog-likelihood  -13.8581\n",
      "iteration 32\tlog-likelihood  -13.7650\n",
      "iteration 64\tlog-likelihood  -13.7400\n",
      "iteration 128\tlog-likelihood  -13.7385\n",
      "iteration 256\tlog-likelihood  -13.7337\n"
     ]
    }
   ],
   "source": [
    "# learning steps\n",
    "initial = C_loss(probR,probZ)\n",
    "log_list = [initial]\n",
    "print('iteration 0\\tlog-likelihood  %.4f'%initial)\n",
    "import math\n",
    "max_iteration = 256\n",
    "for i in range(1,max_iteration+1):\n",
    "    probR_new,probZ_new = M_update(probR,probZ)\n",
    "    log_likelihood = C_loss(probR_new,probZ_new)\n",
    "    log_list.append(log_likelihood)\n",
    "    probR,probZ = probR_new,probZ_new\n",
    "    if math.log(i, 2).is_integer():\n",
    "        print('iteration %d\\tlog-likelihood  %.4f'%(i,log_likelihood))"
   ]
  },
  {
   "cell_type": "code",
   "execution_count": null,
   "metadata": {},
   "outputs": [],
   "source": []
  }
 ],
 "metadata": {
  "kernelspec": {
   "display_name": "Python 3",
   "language": "python",
   "name": "python3"
  },
  "language_info": {
   "codemirror_mode": {
    "name": "ipython",
    "version": 3
   },
   "file_extension": ".py",
   "mimetype": "text/x-python",
   "name": "python",
   "nbconvert_exporter": "python",
   "pygments_lexer": "ipython3",
   "version": "3.7.3"
  }
 },
 "nbformat": 4,
 "nbformat_minor": 2
}
