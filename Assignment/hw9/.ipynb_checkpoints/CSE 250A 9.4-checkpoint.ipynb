{
 "cells": [
  {
   "cell_type": "code",
   "execution_count": 1,
   "metadata": {},
   "outputs": [],
   "source": [
    "import numpy as np\n",
    "import matplotlib.pyplot as plt\n",
    "from numpy.linalg import norm,inv\n",
    "%matplotlib inline"
   ]
  },
  {
   "cell_type": "code",
   "execution_count": 2,
   "metadata": {},
   "outputs": [],
   "source": [
    "A,M,lamda = 4,81,0.9925\n",
    "target = [3,11,12,15,16,17,20,22,23,24,26,29,30,31,34,35\n",
    "          ,39,43,48,52,53,56,57,58,59,60,61,62,66,70,71]\n",
    "target = np.array(target) - 1"
   ]
  },
  {
   "cell_type": "code",
   "execution_count": 3,
   "metadata": {},
   "outputs": [],
   "source": [
    "def reconstruct(sparse):\n",
    "    result = np.zeros(M**2)\n",
    "    index = ((sparse[:,0] - 1) * M + sparse[:,1]).astype(int)\n",
    "    result[index-1] = sparse[:,2]\n",
    "    return result"
   ]
  },
  {
   "cell_type": "code",
   "execution_count": 4,
   "metadata": {},
   "outputs": [],
   "source": [
    "# read data from txt files\n",
    "prob_a1_sparse = np.loadtxt('prob_a1.txt')\n",
    "prob_a2_sparse = np.loadtxt('prob_a2.txt')\n",
    "prob_a3_sparse = np.loadtxt('prob_a3.txt')\n",
    "prob_a4_sparse = np.loadtxt('prob_a4.txt')\n",
    "R = np.loadtxt('rewards.txt')"
   ]
  },
  {
   "cell_type": "code",
   "execution_count": 5,
   "metadata": {},
   "outputs": [
    {
     "name": "stdout",
     "output_type": "stream",
     "text": [
      "(4, 81, 81)\n"
     ]
    }
   ],
   "source": [
    "# reconstruct the transition matrix\n",
    "prob_a1 = reconstruct(prob_a1_sparse).reshape(M,M)\n",
    "prob_a2 = reconstruct(prob_a2_sparse).reshape(M,M)\n",
    "prob_a3 = reconstruct(prob_a3_sparse).reshape(M,M)\n",
    "prob_a4 = reconstruct(prob_a4_sparse).reshape(M,M)\n",
    "prob = np.array([prob_a1,prob_a2,prob_a3,prob_a4])\n",
    "print(prob.shape)"
   ]
  },
  {
   "cell_type": "markdown",
   "metadata": {},
   "source": [
    "### a) policy iteration:"
   ]
  },
  {
   "cell_type": "code",
   "execution_count": 6,
   "metadata": {},
   "outputs": [],
   "source": [
    "# initialize policy pi randomly\n",
    "pi = np.random.randint(4,size = 81)"
   ]
  },
  {
   "cell_type": "code",
   "execution_count": 7,
   "metadata": {},
   "outputs": [],
   "source": [
    "def value(P_pi,R):\n",
    "    return (inv(np.eye(M)-lamda*P_pi)).dot(R)"
   ]
  },
  {
   "cell_type": "code",
   "execution_count": 8,
   "metadata": {},
   "outputs": [],
   "source": [
    "def choose(pi,prob):\n",
    "    result = np.zeros((M,M))\n",
    "    for i in range(M):\n",
    "        result[i,:] += prob[pi[i]][i,:]\n",
    "    return result"
   ]
  },
  {
   "cell_type": "code",
   "execution_count": 9,
   "metadata": {},
   "outputs": [],
   "source": [
    "def greedy(V_pi):\n",
    "    temp = (prob.dot(V_pi[:,np.newaxis])).reshape(4,81).T\n",
    "    return np.argmax(temp,axis = 1)"
   ]
  },
  {
   "cell_type": "code",
   "execution_count": 10,
   "metadata": {},
   "outputs": [],
   "source": [
    "pi_old = np.zeros(81)\n",
    "iteration_p = 0\n",
    "while (np.array_equal(pi_old,pi) == False):\n",
    "    iteration_p += 1\n",
    "    pi_old = pi\n",
    "    P_pi = choose(pi,prob)\n",
    "    V_pi = value(P_pi,R)\n",
    "    pi = greedy(V_pi)\n",
    "    if iteration_p >= 100:\n",
    "        break"
   ]
  },
  {
   "cell_type": "code",
   "execution_count": 11,
   "metadata": {},
   "outputs": [
    {
     "name": "stdout",
     "output_type": "stream",
     "text": [
      "(31,)\n"
     ]
    }
   ],
   "source": [
    "policy_iteration = pi[target]\n",
    "print(policy_iteration.shape)"
   ]
  },
  {
   "cell_type": "markdown",
   "metadata": {},
   "source": [
    "### b) value iteration:"
   ]
  },
  {
   "cell_type": "code",
   "execution_count": 12,
   "metadata": {},
   "outputs": [],
   "source": [
    "# initialize values to be zero, policy to be -1(invalid value)\n",
    "V_old = np.zeros(M) - 1\n",
    "V = np.zeros(M)"
   ]
  },
  {
   "cell_type": "code",
   "execution_count": 15,
   "metadata": {},
   "outputs": [],
   "source": [
    "iteration_v = 0\n",
    "while (norm(V_old-V) >= 0.005):\n",
    "    iteration_v += 1\n",
    "    V_old = V\n",
    "    temp = (prob.dot(V_old[:,np.newaxis])).reshape(4,81).T\n",
    "    V = np.max(temp,axis = 1) * lamda + R\n",
    "    if iteration_v >= 1000:\n",
    "        break"
   ]
  },
  {
   "cell_type": "code",
   "execution_count": 16,
   "metadata": {},
   "outputs": [],
   "source": [
    "pi = np.argmax(temp,axis = 1)"
   ]
  },
  {
   "cell_type": "code",
   "execution_count": 17,
   "metadata": {},
   "outputs": [
    {
     "data": {
      "text/plain": [
       "array([2, 2, 1, 3, 3, 2, 2, 3, 3, 0, 2, 3, 3, 0, 2, 1, 0, 2, 0, 2, 2, 3,\n",
       "       3, 3, 3, 3, 2, 2, 0, 2, 1])"
      ]
     },
     "execution_count": 17,
     "metadata": {},
     "output_type": "execute_result"
    }
   ],
   "source": [
    "pi[target]"
   ]
  },
  {
   "cell_type": "code",
   "execution_count": 19,
   "metadata": {},
   "outputs": [
    {
     "name": "stdout",
     "output_type": "stream",
     "text": [
      "[0 0 0 0 0 0 0 0 0 0 0 0 0 0 0 0 0 0 0 0 0 0 0 0 0 0 0 0 0 0 0]\n"
     ]
    }
   ],
   "source": [
    "print(policy_iteration - pi[target])"
   ]
  },
  {
   "cell_type": "code",
   "execution_count": null,
   "metadata": {},
   "outputs": [],
   "source": []
  }
 ],
 "metadata": {
  "kernelspec": {
   "display_name": "Python 3",
   "language": "python",
   "name": "python3"
  },
  "language_info": {
   "codemirror_mode": {
    "name": "ipython",
    "version": 3
   },
   "file_extension": ".py",
   "mimetype": "text/x-python",
   "name": "python",
   "nbconvert_exporter": "python",
   "pygments_lexer": "ipython3",
   "version": "3.7.3"
  }
 },
 "nbformat": 4,
 "nbformat_minor": 2
}
