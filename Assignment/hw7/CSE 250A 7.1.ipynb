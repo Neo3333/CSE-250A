{
 "cells": [
  {
   "cell_type": "code",
   "execution_count": 1,
   "metadata": {},
   "outputs": [],
   "source": [
    "import numpy as np\n",
    "import matplotlib.pyplot as plt\n",
    "%matplotlib inline"
   ]
  },
  {
   "cell_type": "code",
   "execution_count": 2,
   "metadata": {},
   "outputs": [],
   "source": [
    "initial_f = 'initialStateDistribution.txt'\n",
    "trans_f = 'transitionMatrix.txt'\n",
    "emission_f = 'emissionMatrix.txt'\n",
    "obs_f = 'observations.txt'\n",
    "\n",
    "initial = np.loadtxt(initial_f, dtype=float)\n",
    "trans = np.loadtxt(trans_f, dtype=float)\n",
    "emission = np.loadtxt(emission_f, dtype=float)\n",
    "obs = np.loadtxt(obs_f, dtype=int)"
   ]
  },
  {
   "cell_type": "code",
   "execution_count": 3,
   "metadata": {},
   "outputs": [],
   "source": [
    "L = np.zeros((trans.shape[0],obs.shape[0]))\n",
    "Fi = np.zeros((obs.shape[0],trans.shape[0]))"
   ]
  },
  {
   "cell_type": "code",
   "execution_count": 4,
   "metadata": {},
   "outputs": [],
   "source": [
    "# initial state\n",
    "L.T[0] = L.T[0] + np.log(initial) + np.log(emission[:,obs[0]])"
   ]
  },
  {
   "cell_type": "code",
   "execution_count": null,
   "metadata": {},
   "outputs": [],
   "source": [
    "for i in range(1,obs.shape[0]):\n",
    "    temp0 = L.T[i-1][:,np.newaxis] + np.log(trans)\n",
    "    temp1 = np.max(temp0,axis = 0) + np.log(emission[:,obs[i]])\n",
    "    temp2 = np.argmax(temp0,axis = 0)\n",
    "    L.T[i] = L.T[i] + temp1\n",
    "    Fi[i] = Fi[i] + temp2"
   ]
  },
  {
   "cell_type": "code",
   "execution_count": null,
   "metadata": {},
   "outputs": [],
   "source": [
    "state = np.zeros(obs.shape[0])\n",
    "state[-1] = np.argmax(L.T[-1])\n",
    "for i in range(obs.shape[0]-2,-1,-1):\n",
    "    state[i] = Fi[i+1][int(state[i+1])]"
   ]
  },
  {
   "cell_type": "code",
   "execution_count": null,
   "metadata": {},
   "outputs": [],
   "source": [
    "x = np.linspace(0,54999,55000)"
   ]
  },
  {
   "cell_type": "code",
   "execution_count": 36,
   "metadata": {},
   "outputs": [
    {
     "data": {
      "image/png": "[encoded data removed]",
      "text/plain": [
       "<Figure size 432x288 with 1 Axes>"
      ]
     },
     "metadata": {
      "needs_background": "light"
     },
     "output_type": "display_data"
    }
   ],
   "source": [
    "plt.plot(x,state)\n",
    "plt.show()"
   ]
  },
  {
   "cell_type": "code",
   "execution_count": 58,
   "metadata": {},
   "outputs": [],
   "source": [
    "alphaDict = dict(zip(range(1,28), string.ascii_lowercase + ' '))\n",
    "message = []\n",
    "count = 0\n",
    "for t in range(obs.shape[0]-1):\n",
    "    if state[t] == state[t+1]:\n",
    "        count += 1\n",
    "    else: count = 0\n",
    "    if count > 4500:\n",
    "        message.append(alphaDict.get(state[t]+1))\n",
    "        count = 0\n",
    "result = ''.join(message)"
   ]
  },
  {
   "cell_type": "code",
   "execution_count": 59,
   "metadata": {},
   "outputs": [
    {
     "data": {
      "text/plain": [
       "'okay boomer'"
      ]
     },
     "execution_count": 59,
     "metadata": {},
     "output_type": "execute_result"
    }
   ],
   "source": [
    "result"
   ]
  },
  {
   "cell_type": "code",
   "execution_count": null,
   "metadata": {},
   "outputs": [],
   "source": []
  }
 ],
 "metadata": {
  "kernelspec": {
   "display_name": "Python 3",
   "language": "python",
   "name": "python3"
  },
  "language_info": {
   "codemirror_mode": {
    "name": "ipython",
    "version": 3
   },
   "file_extension": ".py",
   "mimetype": "text/x-python",
   "name": "python",
   "nbconvert_exporter": "python",
   "pygments_lexer": "ipython3",
   "version": "3.7.3"
  }
 },
 "nbformat": 4,
 "nbformat_minor": 2
}
