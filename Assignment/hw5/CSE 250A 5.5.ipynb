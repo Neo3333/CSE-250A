{
 "cells": [
  {
   "cell_type": "code",
   "execution_count": 1,
   "metadata": {},
   "outputs": [],
   "source": [
    "import numpy as np\n",
    "import matplotlib.pyplot as plt\n",
    "%matplotlib inline"
   ]
  },
  {
   "cell_type": "code",
   "execution_count": 2,
   "metadata": {},
   "outputs": [],
   "source": [
    "train3_f = 'train3_oddYr.txt'\n",
    "test3_f = 'test3_oddYr.txt'\n",
    "train5_f = 'train5_oddYr.txt'\n",
    "test5_f = 'test5_oddYr.txt'\n",
    "\n",
    "train3 = np.loadtxt(train3_f, dtype=int)\n",
    "test3 = np.loadtxt(test3_f, dtype=int)\n",
    "train5 = np.loadtxt(train5_f, dtype=int)\n",
    "test5 = np.loadtxt(test5_f, dtype=int)"
   ]
  },
  {
   "cell_type": "code",
   "execution_count": 3,
   "metadata": {},
   "outputs": [],
   "source": [
    "label_train3 = np.zeros(train3.shape[0])\n",
    "label_train5 = np.ones(train5.shape[0])"
   ]
  },
  {
   "cell_type": "code",
   "execution_count": 4,
   "metadata": {},
   "outputs": [],
   "source": [
    "# concatenate the label and the 64 * 1 vector together for random shuffling\n",
    "train3 = np.concatenate((train3,label_train3[:,np.newaxis]),axis = 1)\n",
    "train5 = np.concatenate((train5,label_train5[:,np.newaxis]),axis = 1)"
   ]
  },
  {
   "cell_type": "code",
   "execution_count": 5,
   "metadata": {},
   "outputs": [
    {
     "name": "stdout",
     "output_type": "stream",
     "text": [
      "(1400, 64) (1400,)\n"
     ]
    }
   ],
   "source": [
    "#extract x and y from training samples\n",
    "train = np.concatenate((train3,train5))\n",
    "np.random.shuffle(train)\n",
    "x_train = train[:,:-1]\n",
    "y_train = train[:,-1]\n",
    "print(x_train.shape,y_train.shape)"
   ]
  },
  {
   "cell_type": "code",
   "execution_count": 6,
   "metadata": {},
   "outputs": [],
   "source": [
    "#initialization of w\n",
    "w = np.random.randn(64,1) / 100"
   ]
  },
  {
   "cell_type": "code",
   "execution_count": 7,
   "metadata": {},
   "outputs": [],
   "source": [
    "# define sigmoid function\n",
    "def sigmoid(w,x):\n",
    "    z = np.dot(x,w)\n",
    "    return(1/(1+np.exp(-z)))"
   ]
  },
  {
   "cell_type": "markdown",
   "metadata": {},
   "source": [
    "### For this problem, I will use the ML estimator to estimate the parameters w:\n",
    "* For the loss function of this binary-classification problem, I use the cross entropy loss;\n",
    "* The optimization algorithm I use is gradient descent;\n",
    "* Maximum iterations of this algorithm is 1000, learning rate = 0.2 / 1400;\n",
    "* Every 10 iterations, the loss and the corresponding error rate will be updated and recorded."
   ]
  },
  {
   "cell_type": "code",
   "execution_count": 8,
   "metadata": {},
   "outputs": [
    {
     "name": "stdout",
     "output_type": "stream",
     "text": [
      "after  0  iterations, the loss is  0.6991974340784461\n",
      "after  500  iterations, the loss is  0.14737106123464255\n",
      "after  1000  iterations, the loss is  0.13366840726085244\n",
      "after  1500  iterations, the loss is  0.12786033528483737\n",
      "after  2000  iterations, the loss is  0.12450174368367661\n",
      "after  2500  iterations, the loss is  0.122290719187885\n",
      "after  3000  iterations, the loss is  0.12072989505285713\n",
      "after  3500  iterations, the loss is  0.11957851817371558\n",
      "after  4000  iterations, the loss is  0.11870271882514127\n",
      "after  4500  iterations, the loss is  0.11802115764098803\n"
     ]
    }
   ],
   "source": [
    "alpha = 0.2 / x_train.shape[0]\n",
    "max_iter = 5000\n",
    "loss_list,error_list = [],[]\n",
    "best_w = np.zeros((64,1))\n",
    "best_error = 1\n",
    "for i in range(max_iter):\n",
    "    prob = sigmoid(w,x_train)\n",
    "    temp = np.log(prob) * y_train[:,np.newaxis] + np.log(1-prob) * (1-y_train)[:,np.newaxis]\n",
    "    loss = -1 / x_train.shape[0] * np.sum(temp,axis = 0)\n",
    "    # collect data for plotting\n",
    "    if i%10 == 0:\n",
    "        loss_list.append(loss)\n",
    "        prob_cur = sigmoid(w,x_train)\n",
    "        y_cur = np.where(prob_cur > 0.5,1,0)\n",
    "        error_rate = np.sum(np.absolute(y_train[:,np.newaxis] - y_cur),axis = 0) / x_train.shape[0]\n",
    "        error_list.append(error_rate)\n",
    "        # update the best parameters based on error rate after each 10 iterations\n",
    "        if error_rate[0] < best_error:\n",
    "            best_error = error_rate[0]\n",
    "            best_w = w\n",
    "    # print out the loss after each 500 iterations\n",
    "    if i%500 == 0:\n",
    "        print('after ',str(i),' iterations, the loss is ',str(loss[0]))\n",
    "    temp1 = (y_train[:,np.newaxis] - prob) * x_train\n",
    "    gradient = np.sum(temp1,axis = 0)\n",
    "    w = w + alpha * gradient[:,np.newaxis]\n",
    "loss_list = np.array(loss_list)\n",
    "error_list = np.array(error_list)"
   ]
  },
  {
   "cell_type": "code",
   "execution_count": 9,
   "metadata": {},
   "outputs": [],
   "source": [
    "x = np.linspace(0,5000,500)"
   ]
  },
  {
   "cell_type": "markdown",
   "metadata": {},
   "source": [
    "### As we can see from the plot, as the number of iterations increase, the loss generally decreases and converges. Also the error rate generally decreases along with the increase of iteration number."
   ]
  },
  {
   "cell_type": "code",
   "execution_count": 16,
   "metadata": {},
   "outputs": [
    {
     "data": {
      "image/png": "[encoded data removed]",
      "text/plain": [
       "<Figure size 2160x720 with 2 Axes>"
      ]
     },
     "metadata": {
      "needs_background": "light"
     },
     "output_type": "display_data"
    }
   ],
   "source": [
    "fig=plt.figure(figsize=(30,10))\n",
    "fig.add_subplot(1,2,1)\n",
    "plt.plot(x,loss_list,'b')\n",
    "plt.xlabel('number of iterations', fontdict={'family' : 'Times New Roman', 'size'   : 12})\n",
    "plt.ylabel('loss', fontdict={'family' : 'Times New Roman', 'size'   : 12})\n",
    "fig.add_subplot(1,2,2)\n",
    "plt.plot(x,error_list,'g')\n",
    "plt.xlabel('number of iterations', fontdict={'family' : 'Times New Roman', 'size'   : 12})\n",
    "plt.ylabel('error rate', fontdict={'family' : 'Times New Roman', 'size'   : 12})\n",
    "plt.show()"
   ]
  },
  {
   "cell_type": "code",
   "execution_count": 11,
   "metadata": {},
   "outputs": [
    {
     "name": "stdout",
     "output_type": "stream",
     "text": [
      "w0 = -0.887\tw1 = -1.389\tw2 = -1.148\t\n",
      "w3 = -1.095\tw4 = -0.747\tw5 = -0.764\t\n",
      "w6 = 0.813\tw7 = 1.698\tw8 = 0.070\t\n",
      "w9 = -0.089\tw10 = 0.199\tw11 = -0.069\t\n",
      "w12 = -0.331\tw13 = 0.679\tw14 = -1.210\t\n",
      "w15 = -1.275\tw16 = 3.199\tw17 = 1.362\t\n",
      "w18 = 1.346\tw19 = 0.223\tw20 = 0.619\t\n",
      "w21 = -1.904\tw22 = -2.382\tw23 = -2.418\t\n",
      "w24 = 0.785\tw25 = 0.409\tw26 = 0.549\t\n",
      "w27 = -0.267\tw28 = -0.489\tw29 = -2.143\t\n",
      "w30 = 0.349\tw31 = -0.029\tw32 = 0.470\t\n",
      "w33 = 1.038\tw34 = 0.044\tw35 = -0.314\t\n",
      "w36 = -0.625\tw37 = -0.209\tw38 = -0.393\t\n",
      "w39 = -0.325\tw40 = 1.115\tw41 = -0.186\t\n",
      "w42 = -0.313\tw43 = -0.058\tw44 = 0.106\t\n",
      "w45 = -0.799\tw46 = 0.756\tw47 = -1.400\t\n",
      "w48 = 1.359\tw49 = -0.591\tw50 = 1.237\t\n",
      "w51 = 0.551\tw52 = 0.399\tw53 = -0.288\t\n",
      "w54 = 0.218\tw55 = -1.125\tw56 = 0.520\t\n",
      "w57 = 0.273\tw58 = 0.872\tw59 = 1.648\t\n",
      "w60 = 0.476\tw61 = 0.626\tw62 = 0.515\t\n",
      "w63 = -0.459\t"
     ]
    }
   ],
   "source": [
    "# optimized weight vector\n",
    "for i in range(best_w.shape[0]):\n",
    "    print('w%d = %.3f'%(i,best_w[i][0]),end = '\\t')\n",
    "    if i % 3 == 2:\n",
    "        print()"
   ]
  },
  {
   "cell_type": "code",
   "execution_count": 13,
   "metadata": {},
   "outputs": [
    {
     "name": "stdout",
     "output_type": "stream",
     "text": [
      "(800, 64) (800,)\n"
     ]
    }
   ],
   "source": [
    "# test data\n",
    "label_test3 = np.zeros(test3.shape[0])\n",
    "label_test5 = np.ones(test5.shape[0])\n",
    "test3 = np.concatenate((test3,label_test3[:,np.newaxis]),axis = 1)\n",
    "test5 = np.concatenate((test5,label_test5[:,np.newaxis]),axis = 1)\n",
    "test = np.concatenate((test3,test5))\n",
    "np.random.shuffle(test)\n",
    "x_test = test[:,:-1]\n",
    "y_test = test[:,-1]\n",
    "print(x_test.shape,y_test.shape)"
   ]
  },
  {
   "cell_type": "code",
   "execution_count": 14,
   "metadata": {},
   "outputs": [
    {
     "name": "stdout",
     "output_type": "stream",
     "text": [
      "testing error rate  0.06\n"
     ]
    }
   ],
   "source": [
    "# using the optimized weight vector to predict test data sample\n",
    "prob_test = sigmoid(best_w,x_test)\n",
    "pred_test = np.where(prob_test > 0.5,1,0)\n",
    "error_rate = np.sum(np.absolute(y_test[:,np.newaxis] - pred_test),axis = 0) / x_test.shape[0]\n",
    "print(\"testing error rate \",str(error_rate[0]))"
   ]
  },
  {
   "cell_type": "code",
   "execution_count": null,
   "metadata": {},
   "outputs": [],
   "source": []
  }
 ],
 "metadata": {
  "kernelspec": {
   "display_name": "Python 3",
   "language": "python",
   "name": "python3"
  },
  "language_info": {
   "codemirror_mode": {
    "name": "ipython",
    "version": 3
   },
   "file_extension": ".py",
   "mimetype": "text/x-python",
   "name": "python",
   "nbconvert_exporter": "python",
   "pygments_lexer": "ipython3",
   "version": "3.7.3"
  }
 },
 "nbformat": 4,
 "nbformat_minor": 2
}
