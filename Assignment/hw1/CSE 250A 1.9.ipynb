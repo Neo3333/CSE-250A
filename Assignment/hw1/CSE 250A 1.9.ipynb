{
 "cells": [
  {
   "cell_type": "code",
   "execution_count": 1,
   "metadata": {},
   "outputs": [],
   "source": [
    "import numpy as np\n",
    "import time"
   ]
  },
  {
   "cell_type": "code",
   "execution_count": 2,
   "metadata": {},
   "outputs": [],
   "source": [
    "class Hangman(object):\n",
    "\n",
    "    # correct prior: numpy array with length 5 [a1,a2,a3,a4,a5],each represents a letter index, -1 means undecided;\n",
    "    # for the letter index, A = 1, B = 2, ..., Z = 26;\n",
    "    # incorrect prior: numpy array containing index of letters that doesn't appear in the word;\n",
    "\n",
    "    def __init__(self,correct_prior,incorrect_prior):\n",
    "        self.correct = correct_prior\n",
    "        self.incorrect = incorrect_prior\n",
    "\n",
    "    def prob_1(self,word_list_numerical):\n",
    "        mask = []\n",
    "        result = np.zeros((26,len(word_list_numerical)))\n",
    "        for item in self.incorrect:\n",
    "            result[item] = 0\n",
    "        for item in self.correct:\n",
    "            if item == -1:\n",
    "                mask.append(1)\n",
    "            else:\n",
    "                mask.append(0)\n",
    "        mask = np.array(mask)\n",
    "        word_list_mask = word_list_numerical * mask\n",
    "        for i in range(len(word_list_mask)):\n",
    "            for j in range(5):\n",
    "                index = word_list_mask[i][j]\n",
    "                if index != 0:\n",
    "                    result[index-1][i] = 1\n",
    "        return result\n",
    "\n",
    "    def prob_2(self,word_list_numerical,percent):\n",
    "\n",
    "        temp = list(set(self.correct))\n",
    "        temp.remove(-1)\n",
    "        result = np.zeros(len(word_list_numerical))\n",
    "        for i in range(len(word_list_numerical)):\n",
    "            flag = 0\n",
    "            for item in self.incorrect:\n",
    "                if item in word_list_numerical[i]:\n",
    "                    flag = 1\n",
    "                    break\n",
    "            if flag == 1:\n",
    "                continue\n",
    "            for j in range(len(self.correct)):\n",
    "                if self.correct[j] != word_list_numerical[i][j] and self.correct[j] != -1:\n",
    "                    flag = 1\n",
    "                    break\n",
    "                if self.correct[j] == -1 and word_list_numerical[i][j] in temp:\n",
    "                    flag = 1\n",
    "                    break\n",
    "            if flag == 1:\n",
    "                continue\n",
    "            result[i] = 1\n",
    "        result_percent = result * percent\n",
    "        result2 = np.sum(result_percent)\n",
    "        return result,result2"
   ]
  },
  {
   "cell_type": "code",
   "execution_count": null,
   "metadata": {},
   "outputs": [],
   "source": []
  }
 ],
 "metadata": {
  "kernelspec": {
   "display_name": "Python 3",
   "language": "python",
   "name": "python3"
  },
  "language_info": {
   "codemirror_mode": {
    "name": "ipython",
    "version": 3
   },
   "file_extension": ".py",
   "mimetype": "text/x-python",
   "name": "python",
   "nbconvert_exporter": "python",
   "pygments_lexer": "ipython3",
   "version": "3.7.3"
  }
 },
 "nbformat": 4,
 "nbformat_minor": 2
}
