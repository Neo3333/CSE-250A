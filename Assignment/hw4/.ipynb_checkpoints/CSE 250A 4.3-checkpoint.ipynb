{
 "cells": [
  {
   "cell_type": "markdown",
   "metadata": {},
   "source": [
    "4.3 Statistical Language Modeling"
   ]
  },
  {
   "cell_type": "code",
   "execution_count": 1,
   "metadata": {},
   "outputs": [],
   "source": [
    "# read data from txt files\n",
    "with open('hw4_unigram.txt','r') as f:\n",
    "    count_uni = f.readlines()\n",
    "    f.close()\n",
    "with open('hw4_vocab.txt','r') as f:\n",
    "    vocab = f.readlines()\n",
    "    f.close()\n",
    "with open('hw4_bigram.txt','r') as f:\n",
    "    count_bi = f.readlines()\n",
    "    f.close()"
   ]
  },
  {
   "cell_type": "code",
   "execution_count": 2,
   "metadata": {},
   "outputs": [],
   "source": [
    "# data management\n",
    "import numpy as np\n",
    "for i in range(len(vocab)):\n",
    "    temp0 = vocab[i].strip()\n",
    "    temp1 = int(count_uni[i].strip())\n",
    "    vocab[i],count_uni[i] = temp0,temp1\n",
    "count_uni = np.array(count_uni)\n",
    "#numeric unigram probability\n",
    "prob_uni = count_uni / np.sum(count_uni)"
   ]
  },
  {
   "cell_type": "markdown",
   "metadata": {},
   "source": [
    "All the words that start with the letter “M”, along with their numerical unigram probabilities. "
   ]
  },
  {
   "cell_type": "code",
   "execution_count": 3,
   "metadata": {},
   "outputs": [
    {
     "name": "stdout",
     "output_type": "stream",
     "text": [
      "MILLION   0.002072759168154815\n",
      "MORE   0.0017088989966186725\n",
      "MR.   0.0014416083492816956\n",
      "MOST   0.0007879173033190295\n",
      "MARKET   0.0007803712804681068\n",
      "MAY   0.0007298973156289532\n",
      "M.   0.0007034067394618568\n",
      "MANY   0.0006967290595970209\n",
      "MADE   0.0005598610827336895\n",
      "MUCH   0.0005145971758110562\n",
      "MAKE   0.0005144626437991272\n",
      "MONTH   0.00044490959363187093\n",
      "MONEY   0.00043710673693999306\n",
      "MONTHS   0.0004057607781605526\n",
      "MY   0.0004003183467688823\n",
      "MONDAY   0.00038198530259784006\n",
      "MAJOR   0.00037089252670515475\n",
      "MILITARY   0.00035204581485220204\n",
      "MEMBERS   0.00033606096579846475\n",
      "MIGHT   0.00027358919153183117\n",
      "MEETING   0.0002657374141083427\n",
      "MUST   0.0002665079156312084\n",
      "ME   0.00026357267173457725\n",
      "MARCH   0.0002597935452176646\n",
      "MAN   0.0002528834918776787\n",
      "MS.   0.0002389900041002911\n",
      "MINISTER   0.00023977273580605944\n",
      "MAKING   0.00021170446604452378\n",
      "MOVE   0.0002099555498894477\n",
      "MILES   0.00020596851026319035\n"
     ]
    }
   ],
   "source": [
    "for i in range(len(vocab)):\n",
    "    if vocab[i][0] == 'M' or vocab[i][0] == 'm':\n",
    "        print(vocab[i],\" \",str(prob_uni[i]))"
   ]
  },
  {
   "cell_type": "code",
   "execution_count": 4,
   "metadata": {},
   "outputs": [],
   "source": [
    "# count_bi_matrix[i][j] = count(i,j)\n",
    "count_bi_matrix = np.zeros((500,500))\n",
    "for i in range(len(count_bi)):\n",
    "    temp = count_bi[i].split()\n",
    "    count_bi_matrix[int(temp[0])-1][int(temp[1])-1] = int(temp[2])"
   ]
  },
  {
   "cell_type": "markdown",
   "metadata": {},
   "source": [
    "Ten most likely words and their probabilities to follow the word 'THE'."
   ]
  },
  {
   "cell_type": "code",
   "execution_count": 5,
   "metadata": {},
   "outputs": [
    {
     "name": "stdout",
     "output_type": "stream",
     "text": [
      "TWO 0.006160749602827221\n",
      "SAME 0.006287066757449016\n",
      "NINETEEN 0.006650714911000876\n",
      "GOVERNMENT 0.006803488635995202\n",
      "UNITED 0.008672308141231398\n",
      "NEW 0.009451480076516552\n",
      "COMPANY 0.011658788055636611\n",
      "FIRST 0.011720260675031612\n",
      "U. 0.013372499432610317\n",
      "<UNK> 0.6150198100055118\n"
     ]
    },
    {
     "name": "stderr",
     "output_type": "stream",
     "text": [
      "/Library/Frameworks/Python.framework/Versions/3.7/lib/python3.7/site-packages/ipykernel_launcher.py:3: RuntimeWarning: invalid value encountered in true_divide\n",
      "  This is separate from the ipykernel package so we can avoid doing imports until\n"
     ]
    }
   ],
   "source": [
    "# bigram probability distribution\n",
    "count_parent = np.sum(count_bi_matrix,axis = 1)\n",
    "prob_bi = np.nan_to_num((count_bi_matrix.T / count_parent))\n",
    "index = vocab.index('THE')\n",
    "most_10 = np.argsort(prob_bi.T[index])[-10:]\n",
    "for item in most_10:\n",
    "    print(vocab[item],prob_bi[item][index])"
   ]
  },
  {
   "cell_type": "code",
   "execution_count": 6,
   "metadata": {},
   "outputs": [],
   "source": [
    "# transform a string of a sentence into a list of indices\n",
    "sentence = \"THE STOCK MARKET FELL BY ONE HUNDRED POINTS LAST WEEK\"\n",
    "sentence = sentence.split()\n",
    "sentence_index = [vocab.index(item) for item in sentence]"
   ]
  },
  {
   "cell_type": "code",
   "execution_count": 7,
   "metadata": {},
   "outputs": [
    {
     "name": "stdout",
     "output_type": "stream",
     "text": [
      "Log likihood of the unigram model of sentence 1  -64.50944034364878\n",
      "Log likihood of the bigram model of sentence 1  -40.91813213378977\n"
     ]
    }
   ],
   "source": [
    "# Calculate the log likihood of the unigram and bigram model\n",
    "L1 = np.sum(np.log(prob_uni[sentence_index]))\n",
    "L2 = 0\n",
    "for i in range(len(sentence_index)):\n",
    "    if i == 0:\n",
    "        L2 += np.log(prob_bi[sentence_index[i]][1])\n",
    "    else:\n",
    "        L2 += np.log(prob_bi[sentence_index[i]][sentence_index[i-1]])\n",
    "print(\"Log likihood of the unigram model of sentence 1 \",L1)\n",
    "print(\"Log likihood of the bigram model of sentence 1 \",L2)"
   ]
  },
  {
   "cell_type": "code",
   "execution_count": 8,
   "metadata": {},
   "outputs": [],
   "source": [
    "# transform a string of a sentence into a list of indices\n",
    "sentence2 = \"THE SIXTEEN OFFICIALS SOLD FIRE INSURANCE\"\n",
    "sentence2 = sentence2.split()\n",
    "sentence2_index = [vocab.index(item) for item in sentence2]"
   ]
  },
  {
   "cell_type": "markdown",
   "metadata": {},
   "source": [
    "Two pairs of words (\"OFFICIALS\",\"SIXTEEN\") and (\"FIRE\",\"SOLD\") are not in our training set. This will cause the log likihood to be -inf for the bigram model."
   ]
  },
  {
   "cell_type": "code",
   "execution_count": 9,
   "metadata": {},
   "outputs": [
    {
     "name": "stdout",
     "output_type": "stream",
     "text": [
      "OFFICIALS   SIXTEEN\n",
      "FIRE   SOLD\n",
      "Log likihood of the unigram model of sentence 2  -44.291934473132606\n",
      "Log likihood of the bigram model of sentence 2  -inf\n"
     ]
    },
    {
     "name": "stderr",
     "output_type": "stream",
     "text": [
      "/Library/Frameworks/Python.framework/Versions/3.7/lib/python3.7/site-packages/ipykernel_launcher.py:10: RuntimeWarning: divide by zero encountered in log\n",
      "  # Remove the CWD from sys.path while we load stuff.\n"
     ]
    }
   ],
   "source": [
    "# Calculate the log likihood of the unigram and bigram model\n",
    "L1 = np.sum(np.log(prob_uni[sentence2_index]))\n",
    "L2 = 0\n",
    "for i in range(len(sentence2_index)):\n",
    "    if i == 0:\n",
    "        L2 += np.log(prob_bi[sentence2_index[i]][1])\n",
    "    else:\n",
    "        temp = prob_bi[sentence2_index[i]][sentence2_index[i-1]]\n",
    "        if temp == 0: print(sentence2[i],' ',sentence2[i-1])\n",
    "        L2 += np.log(temp)\n",
    "print(\"Log likihood of the unigram model of sentence 2 \",L1)\n",
    "print(\"Log likihood of the bigram model of sentence 2 \",L2)"
   ]
  },
  {
   "cell_type": "code",
   "execution_count": 10,
   "metadata": {},
   "outputs": [
    {
     "name": "stdout",
     "output_type": "stream",
     "text": [
      "best lamda 0.65\n"
     ]
    }
   ],
   "source": [
    "# mixture model\n",
    "def prob(lamda,index1,index2):\n",
    "    return lamda * prob_uni[index1] + (1-lamda) * prob_bi[index1][index2]\n",
    "\n",
    "lamda_list = np.linspace(0.000001,0.999999,1000)\n",
    "L_list = []\n",
    "for lamda in lamda_list:\n",
    "    L = 0\n",
    "    for j in range(len(sentence2_index)):\n",
    "        if j == 0:\n",
    "            L += np.log(prob(lamda,sentence2_index[j],1))\n",
    "        else:\n",
    "            L += np.log(prob(lamda,sentence2_index[j],sentence2_index[j-1]))\n",
    "    L_list.append(L)\n",
    "\n",
    "np.set_printoptions(precision=2)\n",
    "L_list = np.array(L_list)\n",
    "L_sorted = np.argsort(L_list)\n",
    "print(\"best lamda %.2f\" %(lamda_list[L_sorted[-1]]))"
   ]
  },
  {
   "cell_type": "code",
   "execution_count": 12,
   "metadata": {},
   "outputs": [
    {
     "data": {
      "image/png": "[encoded data removed]",
      "text/plain": [
       "<Figure size 432x288 with 1 Axes>"
      ]
     },
     "metadata": {
      "needs_background": "light"
     },
     "output_type": "display_data"
    }
   ],
   "source": [
    "import matplotlib.pyplot as plt\n",
    "plt.plot(lamda_list,L_list,'b')\n",
    "plt.xlabel('lamda', fontdict={'family' : 'Times New Roman', 'size'   : 12})\n",
    "plt.ylabel('log likihood', fontdict={'family' : 'Times New Roman', 'size'   : 12})\n",
    "plt.show()"
   ]
  }
 ],
 "metadata": {
  "kernelspec": {
   "display_name": "Python 3",
   "language": "python",
   "name": "python3"
  },
  "language_info": {
   "codemirror_mode": {
    "name": "ipython",
    "version": 3
   },
   "file_extension": ".py",
   "mimetype": "text/x-python",
   "name": "python",
   "nbconvert_exporter": "python",
   "pygments_lexer": "ipython3",
   "version": "3.7.3"
  }
 },
 "nbformat": 4,
 "nbformat_minor": 2
}
