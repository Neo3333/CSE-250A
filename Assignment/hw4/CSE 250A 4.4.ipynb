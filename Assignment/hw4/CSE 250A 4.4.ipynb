{
 "cells": [
  {
   "cell_type": "markdown",
   "metadata": {},
   "source": [
    "4.4 Stock Market Prediction"
   ]
  },
  {
   "cell_type": "code",
   "execution_count": 17,
   "metadata": {},
   "outputs": [],
   "source": [
    "# read data from txt files\n",
    "with open('nasdaq00.txt','r') as f:\n",
    "    contents = f.readlines()\n",
    "    f.close()\n",
    "with open('nasdaq01.txt','r') as f:\n",
    "    contents2 = f.readlines()\n",
    "    f.close()"
   ]
  },
  {
   "cell_type": "code",
   "execution_count": 18,
   "metadata": {},
   "outputs": [],
   "source": [
    "# data management\n",
    "import numpy as np\n",
    "for i in range(len(contents)):\n",
    "    temp = contents[i].strip()\n",
    "    contents[i] = float(temp)\n",
    "contents = np.array(contents)"
   ]
  },
  {
   "cell_type": "code",
   "execution_count": 19,
   "metadata": {},
   "outputs": [],
   "source": [
    "# seperate today's data and last three days' data\n",
    "x = contents[3:]\n",
    "x_prev = np.array([contents[2:len(contents)-1],contents[1:len(contents)-2],contents[0:len(contents)-3]])"
   ]
  },
  {
   "cell_type": "code",
   "execution_count": 20,
   "metadata": {},
   "outputs": [
    {
     "name": "stdout",
     "output_type": "stream",
     "text": [
      "[[0.95067337]\n",
      " [0.01560133]\n",
      " [0.03189569]]\n"
     ]
    }
   ],
   "source": [
    "# using MLE to estimate coefficients\n",
    "from numpy.linalg import inv\n",
    "A = np.dot(x_prev,x_prev.T)\n",
    "b = np.dot(x_prev,x[:,np.newaxis])\n",
    "a_mle = np.dot(inv(A),b)\n",
    "print(a_mle)"
   ]
  },
  {
   "cell_type": "code",
   "execution_count": 21,
   "metadata": {},
   "outputs": [],
   "source": [
    "# data management\n",
    "for i in range(len(contents2)):\n",
    "    temp = contents2[i].strip()\n",
    "    contents2[i] = float(temp)\n",
    "contents2 = np.array(contents2)"
   ]
  },
  {
   "cell_type": "code",
   "execution_count": 22,
   "metadata": {},
   "outputs": [],
   "source": [
    "# seperate today's data and last three days' data\n",
    "y_test = contents2[3:]\n",
    "x_test = np.array([contents2[2:len(contents2)-1],contents2[1:len(contents2)-2],contents2[0:len(contents2)-3]])"
   ]
  },
  {
   "cell_type": "code",
   "execution_count": 23,
   "metadata": {},
   "outputs": [
    {
     "name": "stdout",
     "output_type": "stream",
     "text": [
      "MSE for 2000  13902.401076367898\n",
      "MSE for 2001  2985.09792411156\n"
     ]
    }
   ],
   "source": [
    "print('MSE for 2000 ',((x - np.dot(a_mle.T,x_prev)) ** 2).mean())\n",
    "print('MSE for 2001 ',((y_test - np.dot(a_mle.T,x_test)) ** 2).mean())"
   ]
  }
 ],
 "metadata": {
  "kernelspec": {
   "display_name": "Python 3",
   "language": "python",
   "name": "python3"
  },
  "language_info": {
   "codemirror_mode": {
    "name": "ipython",
    "version": 3
   },
   "file_extension": ".py",
   "mimetype": "text/x-python",
   "name": "python",
   "nbconvert_exporter": "python",
   "pygments_lexer": "ipython3",
   "version": "3.7.3"
  }
 },
 "nbformat": 4,
 "nbformat_minor": 2
}
