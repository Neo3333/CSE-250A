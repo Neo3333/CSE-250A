{
 "cells": [
  {
   "cell_type": "code",
   "execution_count": 8,
   "metadata": {},
   "outputs": [],
   "source": [
    "import numpy as np "
   ]
  },
  {
   "cell_type": "code",
   "execution_count": 9,
   "metadata": {},
   "outputs": [],
   "source": [
    "def prob(alpha,B_integer,z):\n",
    "    t = abs(z - B_integer)\n",
    "    return (1 - alpha) / (1 + alpha) * (alpha ** t)"
   ]
  },
  {
   "cell_type": "code",
   "execution_count": 10,
   "metadata": {},
   "outputs": [],
   "source": [
    "# N_list = [i for i in range(1000,100000,1000)]\n",
    "N = 100000\n",
    "result_list = []\n",
    "numerator,denominator = np.zeros(4),0\n",
    "target = [1,4,7,9]\n",
    "for i in range(N):\n",
    "    B = np.random.choice([0,1],size = 10, p = [.5,.5])\n",
    "    B_integer = int(\"\".join(str(B[i]) for i in range(len(B)-1,-1,-1)),2)\n",
    "    probability = prob(0.1,B_integer,128)\n",
    "    for j in range(4):\n",
    "        numerator[j] += B[target[j]] * probability\n",
    "    denominator += probability\n",
    "    if i % 100 == 0 and i >= 1000:\n",
    "        result_list.append(numerator / denominator)\n"
   ]
  },
  {
   "cell_type": "code",
   "execution_count": 11,
   "metadata": {},
   "outputs": [],
   "source": [
    "result_list = np.array(result_list)\n",
    "result = result_list.T"
   ]
  },
  {
   "cell_type": "code",
   "execution_count": 12,
   "metadata": {},
   "outputs": [
    {
     "data": {
      "text/plain": [
       "(4, 990)"
      ]
     },
     "execution_count": 12,
     "metadata": {},
     "output_type": "execute_result"
    }
   ],
   "source": [
    "result.shape"
   ]
  },
  {
   "cell_type": "code",
   "execution_count": 13,
   "metadata": {},
   "outputs": [
    {
     "name": "stdout",
     "output_type": "stream",
     "text": [
      "990\n"
     ]
    },
    {
     "data": {
      "image/png": "[encoded data removed]",
      "text/plain": [
       "<Figure size 432x288 with 1 Axes>"
      ]
     },
     "metadata": {
      "needs_background": "light"
     },
     "output_type": "display_data"
    }
   ],
   "source": [
    "from matplotlib import pyplot as plt\n",
    "x_axis = [i for i in range(1000,100000,100)]\n",
    "print(len(x_axis))\n",
    "plt.plot(x_axis,result[0],x_axis,result[1],x_axis,result[2],x_axis,result[3])\n",
    "plt.show()"
   ]
  },
  {
   "cell_type": "code",
   "execution_count": null,
   "metadata": {},
   "outputs": [],
   "source": []
  }
 ],
 "metadata": {
  "kernelspec": {
   "display_name": "Python 3",
   "language": "python",
   "name": "python3"
  },
  "language_info": {
   "codemirror_mode": {
    "name": "ipython",
    "version": 3
   },
   "file_extension": ".py",
   "mimetype": "text/x-python",
   "name": "python",
   "nbconvert_exporter": "python",
   "pygments_lexer": "ipython3",
   "version": "3.7.3"
  }
 },
 "nbformat": 4,
 "nbformat_minor": 2
}
